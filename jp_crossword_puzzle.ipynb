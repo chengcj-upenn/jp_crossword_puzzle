{
 "cells": [
  {
   "cell_type": "code",
   "execution_count": 49,
   "metadata": {},
   "outputs": [
    {
     "name": "stdout",
     "output_type": "stream",
     "text": [
      "[['あ', 'ぃ', None, None, None, None, None, None], ['ぃ', None, None, None, None, None, None, None], [None, None, 'う', None, None, None, None, None], [None, 'い', None, None, None, None, None, None], [None, 'ぅ', None, None, 'い', 'ぅ', None, None], [None, None, None, None, None, None, None, None], [None, None, None, None, None, None, None, 'う'], [None, None, None, None, None, None, None, 'ぉ']]\n",
      "Generate Puzzle {'-PuzzleBoard-': (None, None)}\n",
      "Clues:\n",
      "h0) clue1\n",
      "h1) clue2\n",
      "v0) clue1a\n",
      "v1) clue3\n",
      "v2) clue4\n",
      "v3) clue5\n",
      "\n",
      "Show Answer {'-PuzzleBoard-': (None, None)}\n",
      "Clues:\n",
      "h0) clue1\n",
      "h1) clue2\n",
      "v0) clue1a\n",
      "v1) clue3\n",
      "v2) clue4\n",
      "v3) clue5\n",
      "\n",
      "Generate Puzzle {'-PuzzleBoard-': (None, None)}\n",
      "Clues:\n",
      "h0) clue1\n",
      "h1) clue2\n",
      "v0) clue1a\n",
      "v1) clue3\n",
      "v2) clue4\n",
      "v3) clue5\n",
      "\n",
      "-PuzzleBoard- {'-PuzzleBoard-': (115, 97)}\n",
      "selected box (x, y) = 7 6\n",
      "-PuzzleBoard- {'-PuzzleBoard-': (114, 98)}\n",
      "selected box (x, y) = 7 6\n",
      "う {'-PuzzleBoard-': (114, 98)}\n",
      "-PuzzleBoard- {'-PuzzleBoard-': (115, 113)}\n",
      "selected box (x, y) = 7 7\n",
      "-PuzzleBoard- {'-PuzzleBoard-': (116, 99)}\n",
      "selected box (x, y) = 7 6\n",
      "-PuzzleBoard- {'-PuzzleBoard-': (116, 113)}\n",
      "selected box (x, y) = 7 7\n",
      "い {'-PuzzleBoard-': (116, 113)}\n",
      "-PuzzleBoard- {'-PuzzleBoard-': (87, 71)}\n",
      "selected box (x, y) = 5 4\n",
      "ぉ {'-PuzzleBoard-': (87, 71)}\n",
      "-PuzzleBoard- {'-PuzzleBoard-': (67, 69)}\n",
      "selected box (x, y) = 4 4\n",
      "か {'-PuzzleBoard-': (67, 69)}\n",
      "あ {'-PuzzleBoard-': (67, 69)}\n",
      "Exit {'-PuzzleBoard-': (67, 69)}\n"
     ]
    }
   ],
   "source": [
    "import frontend as fe\n",
    "import importer\n",
    "import importlib\n",
    "importlib.reload(fe)\n",
    "importlib.reload(importer)\n",
    "import PySimpleGUI as sg\n",
    "import re\n",
    "\n",
    "\"\"\"\n",
    "    Prototype frontend application that 1) takes japanese user input 2) displays puzzle 3) shows puzzle answers\n",
    "\"\"\"\n",
    "# import dictionary\n",
    "my_importer = importer.Importer('./dictionary_files/vocab.json')\n",
    "my_dict = my_importer.export_searchable_dict()\n",
    "\n",
    "regex = '.'+chr(0x3044)\n",
    "list_of_words = my_dict.get_words(regex)\n",
    "# make up some words to play with\n",
    "horizontal_words = [[0,0,chr(0x3042)+chr(0x3043), \"clue1\"], [4,4,chr(0x3044)+chr(0x3045), \"clue2\"]]\n",
    "vertical_words = [[0,0,chr(0x3042)+chr(0x3043), \"clue1a\"], [3,1,chr(0x3044)+chr(0x3045), \"clue3\"], [2,2,chr(0x3046), \"clue4\"], [6,7,chr(0x3046)+chr(0x3049), \"clue5\"]]\n",
    "words_matrix = [ [None]*8 for i in range(8)]\n",
    "\n",
    "for hori_word in horizontal_words:\n",
    "    start_row, start_col, word = hori_word[0], hori_word[1], hori_word[2]        \n",
    "    for i in range(len(word)):\n",
    "        words_matrix[start_row][start_col+i] = word[i]\n",
    "for vert_word in vertical_words:\n",
    "    start_row, start_col, word = vert_word[0], vert_word[1], vert_word[2]        \n",
    "    for i in range(len(word)):\n",
    "        words_matrix[start_row+i][start_col] = word[i]\n",
    "print(words_matrix)\n",
    "\n",
    "# initialize GUI\n",
    "my_game_window = fe.GameGui()\n",
    "\n",
    "# Event Loop\n",
    "while True:             \n",
    "    event, values = my_game_window.monitor_events()\n",
    "    mouse_coordinates = values['-PuzzleBoard-']\n",
    "    print(event, values)\n",
    "    \n",
    "    if event in (sg.WIN_CLOSED, 'Exit'):\n",
    "        break\n",
    "        \n",
    "    elif event == 'Generate Puzzle':        \n",
    "        my_game_window.display_puzzle(horizontal_words=horizontal_words, vertical_words=vertical_words)\n",
    "    \n",
    "    elif event == 'Show Answer':        \n",
    "        my_game_window.display_puzzle(horizontal_words=horizontal_words, vertical_words=vertical_words, show_answer=True)\n",
    "\n",
    "    elif event == '-PuzzleBoard-': # selecting a tile\n",
    "        if mouse_coordinates == (None, None):\n",
    "            continue        \n",
    "        box_x = min(mouse_coordinates[0]//my_game_window.box_size,7)\n",
    "        box_y = min(mouse_coordinates[1]//my_game_window.box_size,7)\n",
    "        if not (words_matrix[box_y][box_x]): continue #ignore invalid selections\n",
    "        my_game_window.clean_previous_selected_tiles(words_matrix)\n",
    "        my_game_window.render_selected_tile(box_y, box_x)\n",
    "        print(\"selected box (x, y) =\", box_x, box_y)        \n",
    "    \n",
    "    elif event in [chr(i) for i in range(0x3041, 0x3097)]: # check if input a japanese character\n",
    "        color = 'black'\n",
    "        # will only update tile if it is a white tile\n",
    "        if not (words_matrix[box_y][box_x]): continue\n",
    "        elif event != words_matrix[box_y][box_x]:\n",
    "            color = 'red' # if the input is incorrect, show as red\n",
    "        my_game_window.render_tile_char(box_y, box_x, event, color)\n",
    "        my_game_window.render_tile_labels(horizontal_words, vertical_words)\n",
    "        \n",
    "my_game_window.window.close()"
   ]
  },
  {
   "cell_type": "code",
   "execution_count": 55,
   "metadata": {},
   "outputs": [
    {
     "name": "stdout",
     "output_type": "stream",
     "text": [
      "[['だいがく', 'college; university'], ['かいしゃいん', 'office worker'], ['だいがくいんせい', 'graduate student'], ['だいがくせい', 'college student'], ['おいしい', 'delicious'], ['けいざい', 'economics'], ['まいにち', 'every day'], ['まいばん', 'every night'], ['たいてい', 'usually'], ['かいもの', 'shopping'], ['すいようび', 'Wednesday'], ['ちいさい', 'small'], ['だいじょうぶ', \"It's okay.; Not to worry.; Everything is under control.\"], ['らいしゅう', 'next week'], ['らいねん', 'next year'], ['かいしゃ', 'company'], ['まいしゅう', 'every week'], ['らいげつ', 'next month'], ['せいかつ', 'life; living'], ['らいがっき', 'next semester'], ['がいこく', 'foreign country'], ['せいせき', 'grade (on a test, etc.)'], ['がいこくご', 'foreign language'], ['ぬいぐるみ', 'stuffed animal (e.g., teddy bear)'], ['えいがかん', 'movie theater'], ['がいこくじん', 'foreigner'], ['ぜいきん', 'tax'], ['さいきん', 'recently'], ['すいせんじょう', 'letter of recommendation'], ['だいがくいん', 'graduate school'], ['たいふう', 'typhoon'], ['さいてい', 'the lowest; the worst'], ['ずいぶん', 'very'], ['れいぞうこ', 'refrigerator'], ['せいかく', 'personality'], ['まいあさ', 'every morning'], ['せいかつする', 'to lead a life'], ['けいさつ', 'police; police station'], ['たいせつ', 'precious; valuable'], ['えいかいわ', 'English conversation'], ['けいかくをたてる', 'to make a plan'], ['かいがいりょこう', 'trip to a foreign country']]\n"
     ]
    }
   ],
   "source": [
    "import importer\n",
    "import importlib\n",
    "import re\n",
    "importlib.reload(importer)\n",
    "# import dictionary\n",
    "my_importer = importer.Importer('./dictionary_files/vocab.json')\n",
    "my_dict = my_importer.export_searchable_dict()\n",
    "p = '.'+chr(0x3044) + '..'\n",
    "list_of_words = my_dict.get_words(p)\n",
    "print(list_of_words)"
   ]
  },
  {
   "cell_type": "code",
   "execution_count": 52,
   "metadata": {},
   "outputs": [
    {
     "name": "stdout",
     "output_type": "stream",
     "text": [
      "い\n"
     ]
    }
   ],
   "source": [
    "print(chr(0x3044))"
   ]
  },
  {
   "cell_type": "code",
   "execution_count": null,
   "metadata": {},
   "outputs": [],
   "source": []
  }
 ],
 "metadata": {
  "kernelspec": {
   "display_name": "Python 3",
   "language": "python",
   "name": "python3"
  },
  "language_info": {
   "codemirror_mode": {
    "name": "ipython",
    "version": 3
   },
   "file_extension": ".py",
   "mimetype": "text/x-python",
   "name": "python",
   "nbconvert_exporter": "python",
   "pygments_lexer": "ipython3",
   "version": "3.8.5"
  }
 },
 "nbformat": 4,
 "nbformat_minor": 4
}
