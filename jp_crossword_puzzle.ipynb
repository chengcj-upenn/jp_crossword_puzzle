{
 "cells": [
  {
   "cell_type": "code",
   "execution_count": 22,
   "metadata": {},
   "outputs": [
    {
     "name": "stdout",
     "output_type": "stream",
     "text": [
      "-GRAPH- {'-GRAPH-': (18, 17)}\n",
      "selected box (x, y) = 0 0\n",
      "b {'-GRAPH-': (18, 17)}\n",
      "-GRAPH- {'-GRAPH-': (45, 19)}\n",
      "selected box (x, y) = 1 0\n",
      "Show {'-GRAPH-': (45, 19)}\n",
      "-GRAPH- {'-GRAPH-': (43, 15)}\n",
      "selected box (x, y) = 1 0\n",
      "d {'-GRAPH-': (43, 15)}\n",
      "-GRAPH- {'-GRAPH-': (16, 35)}\n",
      "selected box (x, y) = 0 1\n",
      "f {'-GRAPH-': (16, 35)}\n",
      "-GRAPH- {'-GRAPH-': (65, 34)}\n",
      "selected box (x, y) = 2 1\n",
      "h {'-GRAPH-': (65, 34)}\n",
      "None None\n"
     ]
    }
   ],
   "source": [
    "import frontend as fe\n",
    "import importlib\n",
    "importlib.reload(fe)\n",
    "import PySimpleGUI as sg\n",
    "import random\n",
    "import string\n",
    "\n",
    "\"\"\"\n",
    "    Prototype application that places alphabet in selected cell upon pressing button\n",
    "\"\"\"\n",
    "\n",
    "sg.theme('SystemDefaultForReal') \n",
    "\n",
    "BOX_SIZE = 25\n",
    "\n",
    "layout = [\n",
    "            [sg.Text('Crossword Puzzle Using PySimpleGUI'), sg.Text('', key='-OUTPUT-')],\n",
    "            [sg.Graph((300, 300), (0, 90), (90, 0), key='-GRAPH-',\n",
    "              change_submits=True, drag_submits=False)],\n",
    "        ]\n",
    "\n",
    "input_buttons = []\n",
    "i = 0\n",
    "for row in range(3):\n",
    "    for col in range(3):\n",
    "        input_buttons.append(sg.Button('{}'.format(chr(ord('a') + i))))\n",
    "        i += 1\n",
    "layout.append(input_buttons)\n",
    "layout.append([sg.Button('Show'), sg.Button('Exit')])\n",
    "\n",
    "window = sg.Window('Window Title', layout, finalize=True)\n",
    "\n",
    "g = window['-GRAPH-']\n",
    "\n",
    "for row in range(3):\n",
    "    for col in range(3):\n",
    "        g.draw_rectangle((col * BOX_SIZE + 5, row * BOX_SIZE + 3), (col * BOX_SIZE + BOX_SIZE + 5, row * BOX_SIZE + BOX_SIZE + 3), line_color='black')        \n",
    "\n",
    "        g.draw_text('{}'.format(row * 6 + col + 1),\n",
    "                    (col * BOX_SIZE + 10, row * BOX_SIZE + 8))\n",
    "\n",
    "\n",
    "while True:             # Event Loop\n",
    "    event, values = window.read()\n",
    "    print(event, values)\n",
    "    if event in (sg.WIN_CLOSED, 'Exit'):\n",
    "        break\n",
    "    mouse = values['-GRAPH-']\n",
    "\n",
    "    if event == '-GRAPH-':\n",
    "        if mouse == (None, None):\n",
    "            continue\n",
    "        box_x = mouse[0]//BOX_SIZE\n",
    "        box_y = mouse[1]//BOX_SIZE\n",
    "        letter_location = (box_x * BOX_SIZE + 18, box_y * BOX_SIZE + 17)\n",
    "        print(\"selected box (x, y) =\", box_x, box_y)\n",
    "        g = window['-GRAPH-']\n",
    "        \n",
    "    elif event in ['a', 'b', 'c', 'd', 'e', 'f', 'g', 'h', 'i', 'j']:\n",
    "        # Update the \"output\" text element to be the value of \"input\" element\n",
    "        g.draw_rectangle((box_x * BOX_SIZE + 5, box_y * BOX_SIZE + 3), (box_x * BOX_SIZE + BOX_SIZE + 5, box_y * BOX_SIZE + BOX_SIZE + 3), line_color='black', fill_color='white')\n",
    "        g.draw_text(event, letter_location, font='Courier 25')\n",
    "window.close()"
   ]
  },
  {
   "cell_type": "code",
   "execution_count": 12,
   "metadata": {},
   "outputs": [],
   "source": []
  }
 ],
 "metadata": {
  "kernelspec": {
   "display_name": "Python 3",
   "language": "python",
   "name": "python3"
  },
  "language_info": {
   "codemirror_mode": {
    "name": "ipython",
    "version": 3
   },
   "file_extension": ".py",
   "mimetype": "text/x-python",
   "name": "python",
   "nbconvert_exporter": "python",
   "pygments_lexer": "ipython3",
   "version": "3.8.5"
  }
 },
 "nbformat": 4,
 "nbformat_minor": 4
}
