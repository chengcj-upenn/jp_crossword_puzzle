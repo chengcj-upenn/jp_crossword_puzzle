{
 "cells": [
  {
   "cell_type": "code",
   "execution_count": null,
   "metadata": {},
   "outputs": [
    {
     "name": "stdout",
     "output_type": "stream",
     "text": [
      "Clues:\n",
      "h0) honorific expression for くれる\n",
      "h1) left\n",
      "h2) to take (something) out; to hand in (something)\n",
      "h3) tea (black tea)\n",
      "h4) lonely\n",
      "h5) room\n",
      "v0) still\n",
      "v1) to return (things)\n",
      "v2) slowly; leisurely; unhurriedly\n",
      "v3) to think (about); to consider\n",
      "\n"
     ]
    }
   ],
   "source": [
    "import frontend as fe\n",
    "import importer\n",
    "import importlib\n",
    "import puzzlegenerator as pg\n",
    "importlib.reload(pg)\n",
    "importlib.reload(fe)\n",
    "importlib.reload(importer)\n",
    "import PySimpleGUI as sg\n",
    "import re\n",
    "\n",
    "\"\"\"\n",
    "    application that 1) takes japanese user input 2) displays puzzle 3) shows puzzle answers\n",
    "\"\"\"\n",
    "\n",
    "# initialize GUI\n",
    "my_game_window = fe.GameGui()\n",
    "\n",
    "# Event Loop\n",
    "while True:             \n",
    "    event, values = my_game_window.monitor_events()\n",
    "    mouse_coordinates = values['-PuzzleBoard-']\n",
    "    #print(event, values)\n",
    "    \n",
    "    if event in (sg.WIN_CLOSED, 'Exit'):\n",
    "        break\n",
    "        \n",
    "    elif event == 'Generate Puzzle':        \n",
    "        words_matrix,horizontal_words,vertical_words = pg.generate_words_matrix(8)\n",
    "        my_game_window.display_puzzle(horizontal_words=horizontal_words, vertical_words=vertical_words)\n",
    "    \n",
    "    elif event == 'Show Answer':        \n",
    "        my_game_window.display_puzzle(horizontal_words=horizontal_words, vertical_words=vertical_words, show_answer=True)\n",
    "\n",
    "    elif event == '-PuzzleBoard-': # selecting a tile\n",
    "        if mouse_coordinates == (None, None):\n",
    "            continue        \n",
    "        box_x = min(mouse_coordinates[0]//my_game_window.box_size,7)\n",
    "        box_y = min(mouse_coordinates[1]//my_game_window.box_size,7)\n",
    "        if not (words_matrix[box_y][box_x]): continue #ignore invalid selections\n",
    "        my_game_window.clean_previous_selected_tiles(words_matrix)\n",
    "        my_game_window.render_selected_tile(box_y, box_x)\n",
    "        #print(\"selected box (x, y) =\", box_x, box_y)        \n",
    "    \n",
    "    elif event in [chr(i) for i in range(0x3041, 0x3097)]: # check if input a japanese character\n",
    "        color = 'black'\n",
    "        # will only update tile if it is a white tile\n",
    "        if not (words_matrix[box_y][box_x]): continue\n",
    "        elif event != words_matrix[box_y][box_x]:\n",
    "            color = 'red' # if the input is incorrect, show as red\n",
    "        my_game_window.render_tile_char(box_y, box_x, event, color)\n",
    "        my_game_window.render_tile_labels(horizontal_words, vertical_words)\n",
    "        \n",
    "my_game_window.window.close()"
   ]
  },
  {
   "cell_type": "code",
   "execution_count": null,
   "metadata": {},
   "outputs": [],
   "source": []
  }
 ],
 "metadata": {
  "kernelspec": {
   "display_name": "Python 3",
   "language": "python",
   "name": "python3"
  },
  "language_info": {
   "codemirror_mode": {
    "name": "ipython",
    "version": 3
   },
   "file_extension": ".py",
   "mimetype": "text/x-python",
   "name": "python",
   "nbconvert_exporter": "python",
   "pygments_lexer": "ipython3",
   "version": "3.8.5"
  }
 },
 "nbformat": 4,
 "nbformat_minor": 4
}
