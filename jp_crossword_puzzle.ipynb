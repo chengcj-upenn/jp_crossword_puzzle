{
 "cells": [
  {
   "cell_type": "code",
   "execution_count": null,
   "metadata": {},
   "outputs": [
    {
     "name": "stdout",
     "output_type": "stream",
     "text": [
      "Generate Puzzle {'-PuzzleBoard-': (None, None)}\n",
      "-PuzzleBoard- {'-PuzzleBoard-': (32, 89)}\n",
      "selected box (x, y) = 1 4\n",
      "ぃ {'-PuzzleBoard-': (32, 89)}\n",
      "-PuzzleBoard- {'-PuzzleBoard-': (118, 93)}\n",
      "selected box (x, y) = 5 4\n",
      "お {'-PuzzleBoard-': (118, 93)}\n",
      "-PuzzleBoard- {'-PuzzleBoard-': (94, 98)}\n",
      "selected box (x, y) = 4 4\n",
      "あ {'-PuzzleBoard-': (94, 98)}\n",
      "-PuzzleBoard- {'-PuzzleBoard-': (111, 95)}\n",
      "selected box (x, y) = 5 4\n",
      "か {'-PuzzleBoard-': (111, 95)}\n",
      "-PuzzleBoard- {'-PuzzleBoard-': (93, 96)}\n",
      "selected box (x, y) = 4 4\n",
      "き {'-PuzzleBoard-': (93, 96)}\n",
      "-PuzzleBoard- {'-PuzzleBoard-': (37, 97)}\n",
      "selected box (x, y) = 1 4\n",
      "く {'-PuzzleBoard-': (37, 97)}\n",
      "-PuzzleBoard- {'-PuzzleBoard-': (36, 75)}\n",
      "selected box (x, y) = 1 3\n",
      "お {'-PuzzleBoard-': (36, 75)}\n"
     ]
    }
   ],
   "source": [
    "import frontend as fe\n",
    "import importlib\n",
    "importlib.reload(fe)\n",
    "import PySimpleGUI as sg\n",
    "import random\n",
    "import string\n",
    "\n",
    "\"\"\"\n",
    "    Prototype application that places alphabet in selected cell upon pressing button\n",
    "\"\"\"\n",
    "\n",
    "# have some dummy words to display a puzzle\n",
    "horizontal_words = [[0,0,chr(0x3042)+chr(0x3043)], [4,4,chr(0x3044)+chr(0x3045)]]\n",
    "vertical_words = [[3,1,chr(0x3044)+chr(0x3045)], [2,2,chr(0x3046)]]\n",
    "\n",
    "my_game_window = fe.GameGui()\n",
    "\n",
    "# Event Loop\n",
    "while True:             \n",
    "    event, values = my_game_window.monitor_events()\n",
    "    mouse_coordinates = values['-PuzzleBoard-']\n",
    "    print(event, values)\n",
    "    \n",
    "    if event in (sg.WIN_CLOSED, 'Exit'):\n",
    "        break\n",
    "        \n",
    "    elif event == 'Generate Puzzle':        \n",
    "        my_game_window.display_puzzle(horizontal_words=horizontal_words, vertical_words=vertical_words)\n",
    "\n",
    "    elif event == '-PuzzleBoard-':\n",
    "        if mouse_coordinates == (None, None):\n",
    "            continue\n",
    "        box_x = mouse_coordinates[0]//my_game_window.box_size\n",
    "        box_y = mouse_coordinates[1]//my_game_window.box_size\n",
    "        \n",
    "        print(\"selected box (x, y) =\", box_x, box_y)\n",
    "        \n",
    "    \n",
    "    elif event in [chr(i) for i in range(0x3041, 0x3097)]: # check if input a japanese character\n",
    "        # Update the \"output\" text element to be the value of \"input\" element\n",
    "        g = my_game_window.get_puzzle_interface()\n",
    "        my_game_window.render_tile_char(box_y, box_x, event)\n",
    "        #g.draw_text(event, letter_location, font='Courier 25')\n",
    "        my_game_window.render_tile_labels(horizontal_words, vertical_words)\n",
    "my_game_window.window.close()"
   ]
  },
  {
   "cell_type": "code",
   "execution_count": 1,
   "metadata": {},
   "outputs": [
    {
     "name": "stdout",
     "output_type": "stream",
     "text": [
      "぀ぁあぃいぅうぇえぉおかがきぎくぐけげこごさざしじすずせぜそぞただちぢっつづてでとどなにぬねのはばぱひびぴふぶぷへべぺほぼぽまみむめもゃやゅゆょよらりるれろゎわゐゑをんゔゕゖ゗゘゙゚゛゜ゝゞゟ"
     ]
    }
   ],
   "source": [
    "for i in range(0x3040, 0x30a0): print(chr(i), end='')"
   ]
  },
  {
   "cell_type": "code",
   "execution_count": 7,
   "metadata": {},
   "outputs": [
    {
     "data": {
      "text/plain": [
       "['ぁ',\n",
       " 'あ',\n",
       " 'ぃ',\n",
       " 'い',\n",
       " 'ぅ',\n",
       " 'う',\n",
       " 'ぇ',\n",
       " 'え',\n",
       " 'ぉ',\n",
       " 'お',\n",
       " 'か',\n",
       " 'が',\n",
       " 'き',\n",
       " 'ぎ',\n",
       " 'く',\n",
       " 'ぐ',\n",
       " 'け',\n",
       " 'げ',\n",
       " 'こ',\n",
       " 'ご',\n",
       " 'さ',\n",
       " 'ざ',\n",
       " 'し',\n",
       " 'じ',\n",
       " 'す',\n",
       " 'ず',\n",
       " 'せ',\n",
       " 'ぜ',\n",
       " 'そ',\n",
       " 'ぞ',\n",
       " 'た',\n",
       " 'だ',\n",
       " 'ち',\n",
       " 'ぢ',\n",
       " 'っ',\n",
       " 'つ',\n",
       " 'づ',\n",
       " 'て',\n",
       " 'で',\n",
       " 'と',\n",
       " 'ど',\n",
       " 'な',\n",
       " 'に',\n",
       " 'ぬ',\n",
       " 'ね',\n",
       " 'の',\n",
       " 'は',\n",
       " 'ば',\n",
       " 'ぱ',\n",
       " 'ひ',\n",
       " 'び',\n",
       " 'ぴ',\n",
       " 'ふ',\n",
       " 'ぶ',\n",
       " 'ぷ',\n",
       " 'へ',\n",
       " 'べ',\n",
       " 'ぺ',\n",
       " 'ほ',\n",
       " 'ぼ',\n",
       " 'ぽ',\n",
       " 'ま',\n",
       " 'み',\n",
       " 'む',\n",
       " 'め',\n",
       " 'も',\n",
       " 'ゃ',\n",
       " 'や',\n",
       " 'ゅ',\n",
       " 'ゆ',\n",
       " 'ょ',\n",
       " 'よ',\n",
       " 'ら',\n",
       " 'り',\n",
       " 'る',\n",
       " 'れ',\n",
       " 'ろ',\n",
       " 'ゎ',\n",
       " 'わ',\n",
       " 'ゐ',\n",
       " 'ゑ',\n",
       " 'を',\n",
       " 'ん',\n",
       " 'ゔ',\n",
       " 'ゕ',\n",
       " 'ゖ']"
      ]
     },
     "execution_count": 7,
     "metadata": {},
     "output_type": "execute_result"
    }
   ],
   "source": [
    "myList = [chr(i) for i in range(0x3041, 0x3097)]\n",
    "myList"
   ]
  },
  {
   "cell_type": "code",
   "execution_count": 6,
   "metadata": {},
   "outputs": [
    {
     "data": {
      "text/plain": [
       "['a',\n",
       " 'b',\n",
       " 'c',\n",
       " 'd',\n",
       " 'e',\n",
       " 'f',\n",
       " 'g',\n",
       " 'h',\n",
       " 'i',\n",
       " 'j',\n",
       " 'k',\n",
       " 'l',\n",
       " 'm',\n",
       " 'n',\n",
       " 'o',\n",
       " 'p',\n",
       " 'q',\n",
       " 'r',\n",
       " 's',\n",
       " 't',\n",
       " 'u',\n",
       " 'v',\n",
       " 'w',\n",
       " 'x',\n",
       " 'y']"
      ]
     },
     "execution_count": 6,
     "metadata": {},
     "output_type": "execute_result"
    }
   ],
   "source": [
    "myList = [chr(i) for i in range(ord('a'), ord('z'))]\n",
    "myList"
   ]
  },
  {
   "cell_type": "code",
   "execution_count": 3,
   "metadata": {},
   "outputs": [
    {
     "data": {
      "text/plain": [
       "2"
      ]
     },
     "execution_count": 3,
     "metadata": {},
     "output_type": "execute_result"
    }
   ],
   "source": [
    "1+1\n"
   ]
  },
  {
   "cell_type": "code",
   "execution_count": 4,
   "metadata": {},
   "outputs": [
    {
     "ename": "NameError",
     "evalue": "name 'myList' is not defined",
     "output_type": "error",
     "traceback": [
      "\u001b[1;31m---------------------------------------------------------------------------\u001b[0m",
      "\u001b[1;31mNameError\u001b[0m                                 Traceback (most recent call last)",
      "\u001b[1;32m<ipython-input-4-6282285231c8>\u001b[0m in \u001b[0;36m<module>\u001b[1;34m\u001b[0m\n\u001b[1;32m----> 1\u001b[1;33m \u001b[0mprint\u001b[0m\u001b[1;33m(\u001b[0m\u001b[0mmyList\u001b[0m\u001b[1;33m)\u001b[0m\u001b[1;33m\u001b[0m\u001b[1;33m\u001b[0m\u001b[0m\n\u001b[0m",
      "\u001b[1;31mNameError\u001b[0m: name 'myList' is not defined"
     ]
    }
   ],
   "source": [
    "print(myList)"
   ]
  }
 ],
 "metadata": {
  "kernelspec": {
   "display_name": "Python 3",
   "language": "python",
   "name": "python3"
  },
  "language_info": {
   "codemirror_mode": {
    "name": "ipython",
    "version": 3
   },
   "file_extension": ".py",
   "mimetype": "text/x-python",
   "name": "python",
   "nbconvert_exporter": "python",
   "pygments_lexer": "ipython3",
   "version": "3.8.3"
  }
 },
 "nbformat": 4,
 "nbformat_minor": 4
}
